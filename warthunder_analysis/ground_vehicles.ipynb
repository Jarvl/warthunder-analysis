{
 "cells": [
  {
   "cell_type": "markdown",
   "metadata": {},
   "source": [
    "# Premium ground vehicles"
   ]
  },
  {
   "cell_type": "markdown",
   "metadata": {},
   "source": [
    "## Gather URLs from War Thunder wiki\n",
    "\n",
    "Caches URLs in a text file. At some point this will use S3."
   ]
  },
  {
   "cell_type": "code",
   "execution_count": null,
   "metadata": {},
   "outputs": [],
   "source": [
    "import os\n",
    "import importlib\n",
    "import utils\n",
    "importlib.reload(utils)\n",
    "\n",
    "urls_filename = os.path.join(utils.data_dir(), 'premium_ground_vehicles', 'urls.txt')\n",
    "vehicle_urls = await utils.generate_premium_ground_vehicle_urls()\n",
    "await utils.write_file(urls_filename, \"\\n\".join(vehicle_urls))\n",
    "\n",
    "print(await utils.read_file(urls_filename))"
   ]
  },
  {
   "cell_type": "markdown",
   "metadata": {},
   "source": [
    "## Gather HTML from vehicle URLs\n",
    "\n",
    "This will cache the HTML from each vehicle's wiki URL so additional data points can be gathered later without additional scraping. At some point this will use S3."
   ]
  },
  {
   "cell_type": "code",
   "execution_count": null,
   "metadata": {},
   "outputs": [],
   "source": [
    "import os\n",
    "import asyncio\n",
    "import aiohttp\n",
    "import importlib\n",
    "import utils\n",
    "importlib.reload(utils)\n",
    "\n",
    "vehicle_data_path = os.path.join(utils.data_dir(), 'premium_ground_vehicles')\n",
    "\n",
    "urls_filename = os.path.join(vehicle_data_path, 'urls.txt')\n",
    "urls = (await utils.read_file(urls_filename)).strip('\\n').split('\\n')\n",
    "\n",
    "async with aiohttp.ClientSession() as session:\n",
    "  html_path = os.path.join(vehicle_data_path, 'html')\n",
    "  await asyncio.gather(*[utils.cache_vehicle_html(url, html_path, session=session) for url in urls])"
   ]
  },
  {
   "cell_type": "markdown",
   "metadata": {},
   "source": [
    "## Extract ground vehicle data points\n",
    "\n",
    "This extracts data points out of the previously cached HTML files.\n",
    "\n",
    "Each data point has a corresponding extraction function, as the method to extract each data point can differ slightly. New data points require a corresponding extraction function."
   ]
  },
  {
   "cell_type": "code",
   "execution_count": null,
   "metadata": {},
   "outputs": [],
   "source": [
    "import os\n",
    "import importlib\n",
    "import utils\n",
    "import extraction\n",
    "\n",
    "importlib.reload(utils)\n",
    "importlib.reload(extraction)\n",
    "\n",
    "test_html_filename = os.path.join(utils.data_dir(), 'premium_ground_vehicles', 'html', '0acb30ae8657e2d8e923b649f66a8436.html')\n",
    "\n",
    "html = await utils.read_file(test_html_filename)\n",
    "ext = extraction.GroundVehicleExtraction(html)\n",
    "\n",
    "fields = ['name', 'country', 'rank']\n",
    "\n",
    "[print(field, ':', getattr(ext, field)) for field in fields]\n",
    "\n"
   ]
  },
  {
   "cell_type": "markdown",
   "metadata": {},
   "source": [
    "\n",
    "The following vehicle data points will be gathered (tracking with ✅/❌):\n",
    "- ✅ Vehicle name\n",
    "- ✅ Country\n",
    "- ❌ Classification of tank (light, medium, heavy, TD, AAA)\n",
    "- ✅ Rank\n",
    "- ❌ BR for each game mode\n",
    "- ❌ Cost (pull from \"Purchase\" on page, if exists)\n",
    "- ❌ Wheels vs treads\n",
    "- ❌ Hull armor (front/side/back)\n",
    "- ❌ Turret armor (front/side/back)\n",
    "- ❌ Crew members\n",
    "- ❌ Visibility\n",
    "- ❌ Horizontal guidance\n",
    "- ❌ Vertical guidance\n",
    "- ❌ Is amphibious\n",
    "- ❌ Forward speed (AB)\n",
    "- ❌ Forward speed (RB/SB)\n",
    "- ❌ Back speed (AB)\n",
    "- ❌ Back speed (RB/SB)\n",
    "- ❌ Engine power (AB)\n",
    "- ❌ Engine power (RB/SB)\n",
    "- ❌ Power-to-weight ratio (AB)\n",
    "- ❌ Power-to-weight ratio (RB/SB)\n",
    "- ❌ Weight (tons)\n",
    "- ❌ Repair cost (AB)\n",
    "- ❌ Repair cost (RB/SB)\n",
    "- ❌ Crew training\n",
    "- ❌ Crew training (Expert)\n",
    "- ❌ Crew training (Aces)\n",
    "- ❌ Crew training (Research Aces)\n",
    "- ❌ Modifications list\n",
    "- ❌ First stage ammunition amount (maybe?)\n",
    "- ❌ Reload time\n",
    "- ❌ Max ammo\n",
    "- ❌ Has stabilizer\n",
    "- ❌ Fire rate\n",
    "- ❌ Ammunitions\n",
    "  - ❌ name\n",
    "  - ❌ type\n",
    "  - ❌ pen @ 10m\n",
    "  - ❌ pen @ 100m\n",
    "  - ❌ pen @ 500m\n",
    "  - ❌ pen @ 1000m\n",
    "  - ❌ pen @ 1500m\n",
    "  - ❌ pen @ 2000m\n",
    "  - ❌ projectile velocity\n",
    "  - ❌ projectile mass\n",
    "  - ❌ fuse delay\n",
    "  - ❌ fuse sensitivity\n",
    "  - ❌ explosive mass\n",
    "  - ❌ degrees richochet 0% chance \n",
    "  - ❌ degrees richochet 50% chance \n",
    "  - ❌ degrees richochet 100% chance \n",
    "- ❌ coax machine gun caliber\n",
    "- ❌ has mounted MG"
   ]
  }
 ],
 "metadata": {
  "kernelspec": {
   "display_name": "warthunder-analysis-AbHsI_bX-py3.11",
   "language": "python",
   "name": "python3"
  },
  "language_info": {
   "codemirror_mode": {
    "name": "ipython",
    "version": 3
   },
   "file_extension": ".py",
   "mimetype": "text/x-python",
   "name": "python",
   "nbconvert_exporter": "python",
   "pygments_lexer": "ipython3",
   "version": "3.11.4"
  },
  "orig_nbformat": 4
 },
 "nbformat": 4,
 "nbformat_minor": 2
}
