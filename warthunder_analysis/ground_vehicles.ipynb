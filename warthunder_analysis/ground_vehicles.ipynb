{
 "cells": [
  {
   "cell_type": "markdown",
   "metadata": {},
   "source": [
    "# Premium ground vehicles"
   ]
  },
  {
   "cell_type": "markdown",
   "metadata": {},
   "source": [
    "## Gather wiki links\n",
    "\n",
    "Caches links in a text file"
   ]
  },
  {
   "cell_type": "code",
   "execution_count": null,
   "metadata": {},
   "outputs": [],
   "source": [
    "import os\n",
    "from utils import generate_premium_ground_vehicle_links, dump_list_to_file\n",
    "\n",
    "outfile = 'data/premium_ground_vehicle_links.txt'\n",
    "\n",
    "pgv_links = generate_premium_ground_vehicle_links()\n",
    "pgv_links_file_path = os.path.join(os.path.abspath(''), outfile)\n",
    "dump_list_to_file(pgv_links, pgv_links_file_path)\n",
    "\n",
    "with open(pgv_links_file_path) as f:\n",
    "    lines = f.read().split('\\n')\n",
    "\n",
    "lines"
   ]
  },
  {
   "cell_type": "markdown",
   "metadata": {},
   "source": [
    "## Gather ground vehicle information\n",
    "\n",
    "The following vehicle information will be gathered (tracking with ✅/❌):\n",
    "- ❌ Vehicle name\n",
    "- ❌ Country\n",
    "- ❌ Type of tank\n",
    "- ❌ Rank\n",
    "- ❌ BR for each game mode\n",
    "- ❌ Cost (pull from \"Purchase\" on page, if exists)\n",
    "- ❌ Wheels vs treads\n",
    "- ❌ Hull armor (front/side/back)\n",
    "- ❌ Turret armor (front/side/back)\n",
    "- ❌ Crew members\n",
    "- ❌ Visibility\n",
    "- ❌ Horizontal guidance\n",
    "- ❌ Vertical guidance\n",
    "- ❌ Is amphibious\n",
    "- ❌ Forward speed (AB)\n",
    "- ❌ Forward speed (RB/SB)\n",
    "- ❌ Back speed (AB)\n",
    "- ❌ Back speed (RB/SB)\n",
    "- ❌ Engine power (AB)\n",
    "- ❌ Engine power (RB/SB)\n",
    "- ❌ Power-to-weight ratio (AB)\n",
    "- ❌ Power-to-weight ratio (RB/SB)\n",
    "- ❌ Weight (tons)\n",
    "- ❌ Repair cost (AB)\n",
    "- ❌ Repair cost (RB/SB)\n",
    "- ❌ Crew training\n",
    "- ❌ Crew training (Expert)\n",
    "- ❌ Crew training (Aces)\n",
    "- ❌ Crew training (Research Aces)\n",
    "- ❌ Modifications list\n",
    "- ❌ First stage ammunition amount (maybe?)\n",
    "- ❌ Reload time\n",
    "- ❌ Max ammo\n",
    "- ❌ Has stabilizer\n",
    "- ❌ Fire rate\n",
    "- ❌ Ammunitions\n",
    "  - ❌ name\n",
    "  - ❌ type\n",
    "  - ❌ pen @ 10m\n",
    "  - ❌ pen @ 100m\n",
    "  - ❌ pen @ 500m\n",
    "  - ❌ pen @ 1000m\n",
    "  - ❌ pen @ 1500m\n",
    "  - ❌ pen @ 2000m\n",
    "  - ❌ projectile velocity\n",
    "  - ❌ projectile mass\n",
    "  - ❌ fuse delay\n",
    "  - ❌ fuse sensitivity\n",
    "  - ❌ explosive mass\n",
    "  - ❌ degrees richochet 0% chance \n",
    "  - ❌ degrees richochet 50% chance \n",
    "  - ❌ degrees richochet 100% chance \n",
    "- ❌ coax machine gun caliber\n",
    "- ❌ has mounted MG"
   ]
  },
  {
   "cell_type": "code",
   "execution_count": null,
   "metadata": {},
   "outputs": [],
   "source": []
  }
 ],
 "metadata": {
  "kernelspec": {
   "display_name": "warthunder-analysis-AbHsI_bX-py3.11",
   "language": "python",
   "name": "python3"
  },
  "language_info": {
   "codemirror_mode": {
    "name": "ipython",
    "version": 3
   },
   "file_extension": ".py",
   "mimetype": "text/x-python",
   "name": "python",
   "nbconvert_exporter": "python",
   "pygments_lexer": "ipython3",
   "version": "3.11.4"
  },
  "orig_nbformat": 4
 },
 "nbformat": 4,
 "nbformat_minor": 2
}
